{
 "cells": [
  {
   "cell_type": "markdown",
   "metadata": {},
   "source": [
    "#### Import thư viện cần thiết"
   ]
  },
  {
   "cell_type": "code",
   "execution_count": 1,
   "metadata": {},
   "outputs": [],
   "source": [
    "# importing module\n",
    "import numpy as np\n",
    "from pandas import *\n",
    "from sklearn.discriminant_analysis import StandardScaler\n",
    "from sklearn.model_selection import train_test_split\n",
    "from sklearn.metrics import classification_report\n",
    "\n",
    "np.random.seed(42)"
   ]
  },
  {
   "cell_type": "markdown",
   "metadata": {},
   "source": [
    "##### Đọc file"
   ]
  },
  {
   "cell_type": "markdown",
   "metadata": {},
   "source": [
    "Bỏ cột `Serial No`"
   ]
  },
  {
   "cell_type": "code",
   "execution_count": 2,
   "metadata": {},
   "outputs": [],
   "source": [
    "# reading CSV file\n",
    "data = read_csv(\"Admission_Predict.csv\")\n",
    "# converting column data to list, then convert list to array\n",
    "data.drop(labels='Serial No.', axis=1, inplace=True)"
   ]
  },
  {
   "cell_type": "markdown",
   "metadata": {},
   "source": [
    "## A"
   ]
  },
  {
   "cell_type": "markdown",
   "metadata": {},
   "source": [
    "##### Đọc dữ liệu, chọn ra 350 dòng đầu làm dữ liệu training, phần còn lại là dữ liệu test. Đổi các dòng dữ liệu sang dạng cột"
   ]
  },
  {
   "cell_type": "code",
   "execution_count": 3,
   "metadata": {},
   "outputs": [],
   "source": [
    "# chọn ra 350 dòng đầu làm dữ liệu training, 50 dòng cuối làm dữ liệu test\n",
    "gre = data['GRE Score'].tolist()\n",
    "X1 = np.asarray(gre)\n",
    "X1_train = np.array([X1[:350]]).T\n",
    "X1_test = np.array([X1[-50:]]).T\n",
    "tfl = data['TOEFL Score'].tolist()\n",
    "X2 = np.asarray(tfl)\n",
    "X2_train = np.array([X2[:350]]).T\n",
    "X2_test = np.array([X2[-50:]]).T\n",
    "unirt = data['University Rating'].tolist()\n",
    "X3 = np.asarray(unirt)\n",
    "X3_train = np.array([X3[:350]]).T \n",
    "X3_test = np.array([X3[-50:]]).T \n",
    "sop = data['SOP'].tolist()\n",
    "X4 = np.asarray(sop)\n",
    "X4_train = np.array([X4[:350]]).T\n",
    "X4_test = np.array([X4[-50:]]).T\n",
    "lor1 = data['LOR '].tolist()\n",
    "X5 = np.asarray(lor1)\n",
    "X5_train = np.array([X5[:350]]).T \n",
    "X5_test = np.array([X5[-50:]]).T \n",
    "cgpa1 = data['CGPA'].tolist()\n",
    "X6 = np.asarray(cgpa1)\n",
    "X6_train = np.array([X6[:350]]).T\n",
    "X6_test = np.array([X6[-50:]]).T\n",
    "research_exp = data['Research'].tolist()\n",
    "X7 = np.asarray(research_exp)\n",
    "X7_train = np.array([X7[:350]]).T\n",
    "X7_test = np.array([X7[-50:]]).T\n",
    "prob_Admit = data['Chance of Admit'].tolist()\n",
    "Yt = np.asarray(prob_Admit)\n",
    "y_train = np.array(Yt[:350])\n",
    "y_test = np.array(Yt[-50:])"
   ]
  },
  {
   "cell_type": "markdown",
   "metadata": {},
   "source": [
    "##### Sắp xếp dữ liệu để có ma trận dữ liệu X = (X1, X2, ..., X7)."
   ]
  },
  {
   "cell_type": "markdown",
   "metadata": {},
   "source": [
    "Kết hợp standard scaler"
   ]
  },
  {
   "cell_type": "code",
   "execution_count": 4,
   "metadata": {},
   "outputs": [],
   "source": [
    "scaler = StandardScaler()\n",
    "# Sắp xếp dữ liệu để có ma trận dữ liệu X = (X1,...X7)\n",
    "X_train = np.concatenate([X1_train, X2_train, X3_train, X4_train, X5_train, X6_train, X7_train], axis=1)\n",
    "X_train = scaler.fit_transform(X_train)\n",
    "X_test = np.concatenate([X1_test, X2_test, X3_test, X4_test, X5_test, X6_test, X7_test], axis=1)\n",
    "X_test = scaler.transform(X_test)"
   ]
  },
  {
   "cell_type": "markdown",
   "metadata": {},
   "source": [
    "##### Bổ sung cột X0 ≡ 1 vào bên trái của ma trận X để được Xbar."
   ]
  },
  {
   "cell_type": "code",
   "execution_count": 5,
   "metadata": {},
   "outputs": [],
   "source": [
    "# Bổ sung cột X0 ≡ 1 vào bên trái của ma trận X để được Xbar.\n",
    "one = np.ones((X_train.shape[0], 1))\n",
    "Xbar = np.concatenate((one, X_train), axis=1)\n",
    "X_test = np.concatenate((np.ones((X_test.shape[0], 1)),X_test), axis=1)"
   ]
  },
  {
   "cell_type": "markdown",
   "metadata": {},
   "source": [
    "##### Gọi các hàm để thực hiện quá trình tính hệ số bằng hồi quy logistic."
   ]
  },
  {
   "cell_type": "code",
   "execution_count": 6,
   "metadata": {},
   "outputs": [],
   "source": [
    "def sigmoid(s):\n",
    "    return 1/(1 + np.exp(-s))\n",
    "\n",
    "def logistic_sigmoid_regression(X, y, w_init, eta, tol = 1e-4, max_count = 10000):\n",
    "    w = [w_init]\n",
    "    it = 0\n",
    "    N = X.shape[1]\n",
    "    d = X.shape[0]\n",
    "    count = 0\n",
    "    check_w_after = 20\n",
    "    while count < max_count:\n",
    "        # mix data for stochastic gradient descent method\n",
    "        mix_id = np.random.permutation(N)\n",
    "        for i in mix_id:\n",
    "            xi = X[:, i].reshape(d, 1)\n",
    "            yi = y[i]\n",
    "            zi = sigmoid(np.dot(w[-1].T, xi))\n",
    "            w_new = w[-1] + eta*(yi - zi)*xi\n",
    "            count += 1\n",
    "            # stopping criteria\n",
    "            if count%check_w_after == 0:\n",
    "                if np.linalg.norm(w_new - w[-check_w_after]) < tol:\n",
    "                    return w\n",
    "            w.append(w_new)\n",
    "    return w\n",
    "\n",
    "d = (Xbar.T).shape[0]\n",
    "w_init = np.random.randn(d, 1)\n",
    "\n",
    "w = logistic_sigmoid_regression(Xbar.T, y_train, w_init, eta=0.05)"
   ]
  },
  {
   "cell_type": "markdown",
   "metadata": {},
   "source": [
    "##### In hệ số ra màn hình"
   ]
  },
  {
   "cell_type": "code",
   "execution_count": 7,
   "metadata": {},
   "outputs": [
    {
     "name": "stdout",
     "output_type": "stream",
     "text": [
      "[[ 1.08762957]\n",
      " [ 0.1203306 ]\n",
      " [ 0.11322414]\n",
      " [ 0.07866573]\n",
      " [-0.04119242]\n",
      " [ 0.11665418]\n",
      " [ 0.34549206]\n",
      " [ 0.07903339]]\n"
     ]
    }
   ],
   "source": [
    "print(w[-1])"
   ]
  },
  {
   "cell_type": "markdown",
   "metadata": {},
   "source": [
    "##### Sử dụng các hệ số kết quả, dự đoán cho dữ liệu test và đối chiếu kết quả với dữ liệu đúng (phân loại)."
   ]
  },
  {
   "cell_type": "code",
   "execution_count": 8,
   "metadata": {
    "ExecuteTime": {
     "end_time": "2024-03-06T17:10:21.787985500Z",
     "start_time": "2024-03-06T17:10:21.563931700Z"
    }
   },
   "outputs": [],
   "source": [
    "prob = sigmoid(np.dot(w[-1].T, X_test.T))\n",
    "# print(prob)\n",
    "y_true = np.where(y_test >= 0.75, 1, 0)\n",
    "y_predict = np.where(prob[0] >= 0.75, 1, 0)\n"
   ]
  },
  {
   "cell_type": "markdown",
   "metadata": {},
   "source": [
    "- Tính toán các đại lượng đo độ chính xác: Accuracy, Precission, Recall."
   ]
  },
  {
   "cell_type": "code",
   "execution_count": 9,
   "metadata": {},
   "outputs": [
    {
     "name": "stdout",
     "output_type": "stream",
     "text": [
      "Confusion matrix:\n",
      "[[26  2]\n",
      " [ 2 20]]\n",
      "Accuracy: 0.92\n",
      "Precision for class 0: 0.9285714285714286\n",
      "Precision for class 1: 0.9090909090909091\n",
      "Recall for class 0: 0.9285714285714286\n",
      "Recall for class 1: 0.9090909090909091\n"
     ]
    }
   ],
   "source": [
    "from sklearn.metrics import accuracy_score, precision_score, recall_score, confusion_matrix\n",
    "conf_matrix = confusion_matrix(y_true, y_predict)\n",
    "# Tính accuracy\n",
    "accuracy = accuracy_score(y_true, y_predict)\n",
    "\n",
    "# Tính precision cho từng class\n",
    "precision_class = precision_score(y_true, y_predict, average=None)\n",
    "\n",
    "# Tính recall cho từng class\n",
    "recall_class = recall_score(y_true, y_predict, average=None)\n",
    "\n",
    "print(\"Confusion matrix:\")\n",
    "print(conf_matrix)\n",
    "print(\"Accuracy:\", accuracy)\n",
    "print(\"Precision for class 0:\", precision_class[0])\n",
    "print(\"Precision for class 1:\", precision_class[1])\n",
    "print(\"Recall for class 0:\", recall_class[0])\n",
    "print(\"Recall for class 1:\", recall_class[1])"
   ]
  },
  {
   "cell_type": "markdown",
   "metadata": {},
   "source": [
    "## B"
   ]
  },
  {
   "cell_type": "markdown",
   "metadata": {},
   "source": [
    "### Dự đoán bằng hồi quy tuyến tính\n",
    "Vẫn chia tập dữ liệu training – test như trên. Hãy sử dụng phương pháp hồi quy tuyến tính để ước lượng khả năng\n",
    "trúng tuyển của các hồ sơ có dữ liệu trong tập test.\n",
    "\n",
    "Tính trung bình bình phương sai số bằng cách lấy tổng bình phương sai khác giữa kết quả tính theo hồi quy và kết\n",
    "quả thực tế (cột cuối) sau đó chia cho số mẫu."
   ]
  },
  {
   "cell_type": "code",
   "execution_count": 10,
   "metadata": {},
   "outputs": [],
   "source": [
    "def qr_householder(A):\n",
    "    #\"\"\" Compute QR decomposition of A using Householder reflection\"\"\"\n",
    "    M = A.shape[0]\n",
    "    N = A.shape[1]\n",
    "\n",
    "    # set Q to the identity matrix\n",
    "    Q = np.identity(M)\n",
    "\n",
    "    # set R to zero matrix\n",
    "    R = np.copy(A)\n",
    "\n",
    "    for n in range(N):\n",
    "        # vector to transform\n",
    "        x = A[n:, n]\n",
    "        k = x.shape[0]\n",
    "\n",
    "        # compute ro=-sign(x0)||x||\n",
    "        ro = -np.sign(x[0]) * np.linalg.norm(x)\n",
    "\n",
    "        # compute the householder vector v\n",
    "        e = np.zeros(k)\n",
    "        e[0] = 1\n",
    "        v = (1 / (x[0] - ro)) * (x - (ro * e))\n",
    "\n",
    "        # apply v to each column of A to find R\n",
    "        for i in range(N):\n",
    "            R[n:, i] = R[n:, i] - (2 / (v@v)) * ((np.outer(v, v)) @ R[n:, i])\n",
    "\n",
    "        # apply v to each column of Q\n",
    "        for i in range(M):\n",
    "            Q[n:, i] = Q[n:, i] - (2 / (v@v)) * ((np.outer(v, v)) @ Q[n:, i])\n",
    "\n",
    "    return Q.transpose(), R"
   ]
  },
  {
   "cell_type": "code",
   "execution_count": 11,
   "metadata": {},
   "outputs": [],
   "source": [
    "def linear_regression(x_data, y_data):\n",
    "    # \"\"\"\n",
    "    # This function calculate linear regression base on x_data and y_data\n",
    "    # :param x_data: vector\n",
    "    # :param y_data: vector\n",
    "    # :return: w (regression estimate)\n",
    "    # \"\"\"\n",
    "\n",
    "    # add column 1\n",
    "    x_bars = np.concatenate((np.ones((x_data.shape[0], 1)), x_data), axis=1)\n",
    "\n",
    "    Q, R = qr_householder(x_bars) # QR decomposition\n",
    "    R_pinv = np.linalg.pinv(R) # calculate inverse matrix of R\n",
    "    A = np.dot(R_pinv, Q.T) # apply formula\n",
    "\n",
    "    return np.dot(A, y_data)"
   ]
  },
  {
   "cell_type": "markdown",
   "metadata": {},
   "source": [
    "- Hệ số tính được"
   ]
  },
  {
   "cell_type": "code",
   "execution_count": 12,
   "metadata": {},
   "outputs": [
    {
     "data": {
      "text/plain": [
       "[[0.7252857142857136,\n",
       "  0.01750104267243932,\n",
       "  0.019509736878689666,\n",
       "  0.0106810650324023,\n",
       "  -0.004364456218649844,\n",
       "  0.02248521471915492,\n",
       "  0.06585191114783914,\n",
       "  0.01092490877987791]]"
      ]
     },
     "execution_count": 12,
     "metadata": {},
     "output_type": "execute_result"
    }
   ],
   "source": [
    "y_reg = np.array([y_train]).T\n",
    "w = linear_regression(X_train, y_reg) # linear regression\n",
    "w = w.T.tolist()\n",
    "w"
   ]
  },
  {
   "cell_type": "markdown",
   "metadata": {},
   "source": [
    "- Dự đoán cho dữ liệu test"
   ]
  },
  {
   "cell_type": "code",
   "execution_count": 13,
   "metadata": {},
   "outputs": [],
   "source": [
    "y_test_predicted = np.dot(X_test, np.array(w).T)"
   ]
  },
  {
   "cell_type": "markdown",
   "metadata": {},
   "source": [
    "- Tính trung bình bình phương sai số bằng cách lấy tổng bình phương sai khác giữa kết quả tính theo hồi quy và kết quả thực tế (cột cuối) sau đó chia cho số mẫu."
   ]
  },
  {
   "cell_type": "code",
   "execution_count": 14,
   "metadata": {},
   "outputs": [
    {
     "name": "stdout",
     "output_type": "stream",
     "text": [
      "Mean Squared Error (MSE): 0.08\n"
     ]
    }
   ],
   "source": [
    "n_samples = len(y_test)\n",
    "squared_errors = (y_predict - y_true) ** 2\n",
    "\n",
    "# Tính trung bình bình phương sai số\n",
    "mse = np.sum(squared_errors) / n_samples\n",
    "print(\"Mean Squared Error (MSE):\", mse)"
   ]
  },
  {
   "cell_type": "markdown",
   "metadata": {},
   "source": [
    "## C"
   ]
  },
  {
   "cell_type": "markdown",
   "metadata": {},
   "source": [
    "### Hãy sử dụng phương pháp Naïve Bayes phù hợp để phân loại dữ liệu nói trên. Tìm hiểu và sử dụng hàm đo thời gian để tính\n",
    "- Thời gian chạy của phương pháp Naïve Bayes và Logistic Regression;\n",
    "- Độ chính xác tính theo Accuracy, Recall, Precision của mỗi phương pháp nói trên."
   ]
  },
  {
   "cell_type": "code",
   "execution_count": 15,
   "metadata": {},
   "outputs": [],
   "source": [
    "from sklearn.naive_bayes import GaussianNB\n",
    "from sklearn.linear_model import LogisticRegression\n",
    "from time import process_time"
   ]
  },
  {
   "cell_type": "markdown",
   "metadata": {},
   "source": [
    "##### Naive Bayes"
   ]
  },
  {
   "cell_type": "code",
   "execution_count": 16,
   "metadata": {},
   "outputs": [
    {
     "name": "stdout",
     "output_type": "stream",
     "text": [
      "0.0\n"
     ]
    }
   ],
   "source": [
    "# Set features and target\n",
    "target = 'Chance of Admit'\n",
    "x = data.drop(target, axis=1)\n",
    "y = data[target]\n",
    "y_clf = np.where(y >= 0.75, int(1), int(0))\n",
    "\n",
    "# Split data\n",
    "x_train, x_test, y_train, y_test = train_test_split(x, y_clf, test_size=50, random_state=42, shuffle=False)\n",
    "\n",
    "scaler = StandardScaler()\n",
    "x_train = scaler.fit_transform(x_train)\n",
    "x_test = scaler.transform(x_test)\n",
    "\n",
    "\n",
    "cls = GaussianNB()\n",
    "start1 = process_time()\n",
    "cls.fit(x_train, y_train)  # Chuyển y_train thành mảng numpy bằng thuộc tính .values\n",
    "\n",
    "y_predict = cls.predict(x_test)\n",
    "end1 = process_time()\n",
    "print(end1 - start1)"
   ]
  },
  {
   "cell_type": "markdown",
   "metadata": {},
   "source": [
    "- Metrics"
   ]
  },
  {
   "cell_type": "code",
   "execution_count": 17,
   "metadata": {},
   "outputs": [
    {
     "name": "stdout",
     "output_type": "stream",
     "text": [
      "              precision    recall  f1-score   support\n",
      "\n",
      "           0       0.87      0.96      0.92        28\n",
      "           1       0.95      0.82      0.88        22\n",
      "\n",
      "    accuracy                           0.90        50\n",
      "   macro avg       0.91      0.89      0.90        50\n",
      "weighted avg       0.90      0.90      0.90        50\n",
      "\n"
     ]
    }
   ],
   "source": [
    "print(classification_report(y_true, y_predict))"
   ]
  },
  {
   "cell_type": "markdown",
   "metadata": {},
   "source": [
    "#### Logistic regression"
   ]
  },
  {
   "cell_type": "code",
   "execution_count": 18,
   "metadata": {},
   "outputs": [
    {
     "name": "stdout",
     "output_type": "stream",
     "text": [
      "0.0\n"
     ]
    }
   ],
   "source": [
    "X_train, X_test, y_train, y_test = train_test_split(x, y, test_size=50, random_state=42, shuffle=False)\n",
    "X_train = scaler.fit_transform(X_train)\n",
    "X_test = scaler.transform(X_test)\n",
    "y_train_binary = (y_train > 0.72).astype(int)\n",
    "y_test_binary = (y_test > 0.72).astype(int)\n",
    "logreg = LogisticRegression()\n",
    "start2 = process_time()\n",
    "logreg.fit(X_train, y_train_binary)\n",
    "y_predict = logreg.predict(X_test)\n",
    "end2 = process_time()\n",
    "print(end2 - start2)\n"
   ]
  },
  {
   "cell_type": "markdown",
   "metadata": {},
   "source": [
    "- Metrics"
   ]
  },
  {
   "cell_type": "code",
   "execution_count": 19,
   "metadata": {},
   "outputs": [
    {
     "name": "stdout",
     "output_type": "stream",
     "text": [
      "              precision    recall  f1-score   support\n",
      "\n",
      "           0       0.93      0.89      0.91        28\n",
      "           1       0.87      0.91      0.89        22\n",
      "\n",
      "    accuracy                           0.90        50\n",
      "   macro avg       0.90      0.90      0.90        50\n",
      "weighted avg       0.90      0.90      0.90        50\n",
      "\n"
     ]
    }
   ],
   "source": [
    "print(classification_report(y_true, y_predict))"
   ]
  },
  {
   "cell_type": "markdown",
   "metadata": {},
   "source": [
    "## D"
   ]
  },
  {
   "cell_type": "markdown",
   "metadata": {},
   "source": [
    "Hãy sử dụng thư viện scikit-learn để thực nghiệm lại các ví dụ 1 và 2\n",
    "\n",
    "Sau đó so sánh kết quả (bộ tham số tối ưu; kết quả dự đoán; độ chính xác) của trường\n",
    "hợp code tự xây dựng và sử dụng thư viện. Nếu có sự khác nhau, hãy giải thích lý do."
   ]
  },
  {
   "cell_type": "markdown",
   "metadata": {},
   "source": [
    "### VD1"
   ]
  },
  {
   "cell_type": "code",
   "execution_count": 20,
   "metadata": {},
   "outputs": [
    {
     "data": {
      "text/html": [
       "<style>#sk-container-id-1 {\n",
       "  /* Definition of color scheme common for light and dark mode */\n",
       "  --sklearn-color-text: black;\n",
       "  --sklearn-color-line: gray;\n",
       "  /* Definition of color scheme for unfitted estimators */\n",
       "  --sklearn-color-unfitted-level-0: #fff5e6;\n",
       "  --sklearn-color-unfitted-level-1: #f6e4d2;\n",
       "  --sklearn-color-unfitted-level-2: #ffe0b3;\n",
       "  --sklearn-color-unfitted-level-3: chocolate;\n",
       "  /* Definition of color scheme for fitted estimators */\n",
       "  --sklearn-color-fitted-level-0: #f0f8ff;\n",
       "  --sklearn-color-fitted-level-1: #d4ebff;\n",
       "  --sklearn-color-fitted-level-2: #b3dbfd;\n",
       "  --sklearn-color-fitted-level-3: cornflowerblue;\n",
       "\n",
       "  /* Specific color for light theme */\n",
       "  --sklearn-color-text-on-default-background: var(--sg-text-color, var(--theme-code-foreground, var(--jp-content-font-color1, black)));\n",
       "  --sklearn-color-background: var(--sg-background-color, var(--theme-background, var(--jp-layout-color0, white)));\n",
       "  --sklearn-color-border-box: var(--sg-text-color, var(--theme-code-foreground, var(--jp-content-font-color1, black)));\n",
       "  --sklearn-color-icon: #696969;\n",
       "\n",
       "  @media (prefers-color-scheme: dark) {\n",
       "    /* Redefinition of color scheme for dark theme */\n",
       "    --sklearn-color-text-on-default-background: var(--sg-text-color, var(--theme-code-foreground, var(--jp-content-font-color1, white)));\n",
       "    --sklearn-color-background: var(--sg-background-color, var(--theme-background, var(--jp-layout-color0, #111)));\n",
       "    --sklearn-color-border-box: var(--sg-text-color, var(--theme-code-foreground, var(--jp-content-font-color1, white)));\n",
       "    --sklearn-color-icon: #878787;\n",
       "  }\n",
       "}\n",
       "\n",
       "#sk-container-id-1 {\n",
       "  color: var(--sklearn-color-text);\n",
       "}\n",
       "\n",
       "#sk-container-id-1 pre {\n",
       "  padding: 0;\n",
       "}\n",
       "\n",
       "#sk-container-id-1 input.sk-hidden--visually {\n",
       "  border: 0;\n",
       "  clip: rect(1px 1px 1px 1px);\n",
       "  clip: rect(1px, 1px, 1px, 1px);\n",
       "  height: 1px;\n",
       "  margin: -1px;\n",
       "  overflow: hidden;\n",
       "  padding: 0;\n",
       "  position: absolute;\n",
       "  width: 1px;\n",
       "}\n",
       "\n",
       "#sk-container-id-1 div.sk-dashed-wrapped {\n",
       "  border: 1px dashed var(--sklearn-color-line);\n",
       "  margin: 0 0.4em 0.5em 0.4em;\n",
       "  box-sizing: border-box;\n",
       "  padding-bottom: 0.4em;\n",
       "  background-color: var(--sklearn-color-background);\n",
       "}\n",
       "\n",
       "#sk-container-id-1 div.sk-container {\n",
       "  /* jupyter's `normalize.less` sets `[hidden] { display: none; }`\n",
       "     but bootstrap.min.css set `[hidden] { display: none !important; }`\n",
       "     so we also need the `!important` here to be able to override the\n",
       "     default hidden behavior on the sphinx rendered scikit-learn.org.\n",
       "     See: https://github.com/scikit-learn/scikit-learn/issues/21755 */\n",
       "  display: inline-block !important;\n",
       "  position: relative;\n",
       "}\n",
       "\n",
       "#sk-container-id-1 div.sk-text-repr-fallback {\n",
       "  display: none;\n",
       "}\n",
       "\n",
       "div.sk-parallel-item,\n",
       "div.sk-serial,\n",
       "div.sk-item {\n",
       "  /* draw centered vertical line to link estimators */\n",
       "  background-image: linear-gradient(var(--sklearn-color-text-on-default-background), var(--sklearn-color-text-on-default-background));\n",
       "  background-size: 2px 100%;\n",
       "  background-repeat: no-repeat;\n",
       "  background-position: center center;\n",
       "}\n",
       "\n",
       "/* Parallel-specific style estimator block */\n",
       "\n",
       "#sk-container-id-1 div.sk-parallel-item::after {\n",
       "  content: \"\";\n",
       "  width: 100%;\n",
       "  border-bottom: 2px solid var(--sklearn-color-text-on-default-background);\n",
       "  flex-grow: 1;\n",
       "}\n",
       "\n",
       "#sk-container-id-1 div.sk-parallel {\n",
       "  display: flex;\n",
       "  align-items: stretch;\n",
       "  justify-content: center;\n",
       "  background-color: var(--sklearn-color-background);\n",
       "  position: relative;\n",
       "}\n",
       "\n",
       "#sk-container-id-1 div.sk-parallel-item {\n",
       "  display: flex;\n",
       "  flex-direction: column;\n",
       "}\n",
       "\n",
       "#sk-container-id-1 div.sk-parallel-item:first-child::after {\n",
       "  align-self: flex-end;\n",
       "  width: 50%;\n",
       "}\n",
       "\n",
       "#sk-container-id-1 div.sk-parallel-item:last-child::after {\n",
       "  align-self: flex-start;\n",
       "  width: 50%;\n",
       "}\n",
       "\n",
       "#sk-container-id-1 div.sk-parallel-item:only-child::after {\n",
       "  width: 0;\n",
       "}\n",
       "\n",
       "/* Serial-specific style estimator block */\n",
       "\n",
       "#sk-container-id-1 div.sk-serial {\n",
       "  display: flex;\n",
       "  flex-direction: column;\n",
       "  align-items: center;\n",
       "  background-color: var(--sklearn-color-background);\n",
       "  padding-right: 1em;\n",
       "  padding-left: 1em;\n",
       "}\n",
       "\n",
       "\n",
       "/* Toggleable style: style used for estimator/Pipeline/ColumnTransformer box that is\n",
       "clickable and can be expanded/collapsed.\n",
       "- Pipeline and ColumnTransformer use this feature and define the default style\n",
       "- Estimators will overwrite some part of the style using the `sk-estimator` class\n",
       "*/\n",
       "\n",
       "/* Pipeline and ColumnTransformer style (default) */\n",
       "\n",
       "#sk-container-id-1 div.sk-toggleable {\n",
       "  /* Default theme specific background. It is overwritten whether we have a\n",
       "  specific estimator or a Pipeline/ColumnTransformer */\n",
       "  background-color: var(--sklearn-color-background);\n",
       "}\n",
       "\n",
       "/* Toggleable label */\n",
       "#sk-container-id-1 label.sk-toggleable__label {\n",
       "  cursor: pointer;\n",
       "  display: block;\n",
       "  width: 100%;\n",
       "  margin-bottom: 0;\n",
       "  padding: 0.5em;\n",
       "  box-sizing: border-box;\n",
       "  text-align: center;\n",
       "}\n",
       "\n",
       "#sk-container-id-1 label.sk-toggleable__label-arrow:before {\n",
       "  /* Arrow on the left of the label */\n",
       "  content: \"▸\";\n",
       "  float: left;\n",
       "  margin-right: 0.25em;\n",
       "  color: var(--sklearn-color-icon);\n",
       "}\n",
       "\n",
       "#sk-container-id-1 label.sk-toggleable__label-arrow:hover:before {\n",
       "  color: var(--sklearn-color-text);\n",
       "}\n",
       "\n",
       "/* Toggleable content - dropdown */\n",
       "\n",
       "#sk-container-id-1 div.sk-toggleable__content {\n",
       "  max-height: 0;\n",
       "  max-width: 0;\n",
       "  overflow: hidden;\n",
       "  text-align: left;\n",
       "  /* unfitted */\n",
       "  background-color: var(--sklearn-color-unfitted-level-0);\n",
       "}\n",
       "\n",
       "#sk-container-id-1 div.sk-toggleable__content.fitted {\n",
       "  /* fitted */\n",
       "  background-color: var(--sklearn-color-fitted-level-0);\n",
       "}\n",
       "\n",
       "#sk-container-id-1 div.sk-toggleable__content pre {\n",
       "  margin: 0.2em;\n",
       "  border-radius: 0.25em;\n",
       "  color: var(--sklearn-color-text);\n",
       "  /* unfitted */\n",
       "  background-color: var(--sklearn-color-unfitted-level-0);\n",
       "}\n",
       "\n",
       "#sk-container-id-1 div.sk-toggleable__content.fitted pre {\n",
       "  /* unfitted */\n",
       "  background-color: var(--sklearn-color-fitted-level-0);\n",
       "}\n",
       "\n",
       "#sk-container-id-1 input.sk-toggleable__control:checked~div.sk-toggleable__content {\n",
       "  /* Expand drop-down */\n",
       "  max-height: 200px;\n",
       "  max-width: 100%;\n",
       "  overflow: auto;\n",
       "}\n",
       "\n",
       "#sk-container-id-1 input.sk-toggleable__control:checked~label.sk-toggleable__label-arrow:before {\n",
       "  content: \"▾\";\n",
       "}\n",
       "\n",
       "/* Pipeline/ColumnTransformer-specific style */\n",
       "\n",
       "#sk-container-id-1 div.sk-label input.sk-toggleable__control:checked~label.sk-toggleable__label {\n",
       "  color: var(--sklearn-color-text);\n",
       "  background-color: var(--sklearn-color-unfitted-level-2);\n",
       "}\n",
       "\n",
       "#sk-container-id-1 div.sk-label.fitted input.sk-toggleable__control:checked~label.sk-toggleable__label {\n",
       "  background-color: var(--sklearn-color-fitted-level-2);\n",
       "}\n",
       "\n",
       "/* Estimator-specific style */\n",
       "\n",
       "/* Colorize estimator box */\n",
       "#sk-container-id-1 div.sk-estimator input.sk-toggleable__control:checked~label.sk-toggleable__label {\n",
       "  /* unfitted */\n",
       "  background-color: var(--sklearn-color-unfitted-level-2);\n",
       "}\n",
       "\n",
       "#sk-container-id-1 div.sk-estimator.fitted input.sk-toggleable__control:checked~label.sk-toggleable__label {\n",
       "  /* fitted */\n",
       "  background-color: var(--sklearn-color-fitted-level-2);\n",
       "}\n",
       "\n",
       "#sk-container-id-1 div.sk-label label.sk-toggleable__label,\n",
       "#sk-container-id-1 div.sk-label label {\n",
       "  /* The background is the default theme color */\n",
       "  color: var(--sklearn-color-text-on-default-background);\n",
       "}\n",
       "\n",
       "/* On hover, darken the color of the background */\n",
       "#sk-container-id-1 div.sk-label:hover label.sk-toggleable__label {\n",
       "  color: var(--sklearn-color-text);\n",
       "  background-color: var(--sklearn-color-unfitted-level-2);\n",
       "}\n",
       "\n",
       "/* Label box, darken color on hover, fitted */\n",
       "#sk-container-id-1 div.sk-label.fitted:hover label.sk-toggleable__label.fitted {\n",
       "  color: var(--sklearn-color-text);\n",
       "  background-color: var(--sklearn-color-fitted-level-2);\n",
       "}\n",
       "\n",
       "/* Estimator label */\n",
       "\n",
       "#sk-container-id-1 div.sk-label label {\n",
       "  font-family: monospace;\n",
       "  font-weight: bold;\n",
       "  display: inline-block;\n",
       "  line-height: 1.2em;\n",
       "}\n",
       "\n",
       "#sk-container-id-1 div.sk-label-container {\n",
       "  text-align: center;\n",
       "}\n",
       "\n",
       "/* Estimator-specific */\n",
       "#sk-container-id-1 div.sk-estimator {\n",
       "  font-family: monospace;\n",
       "  border: 1px dotted var(--sklearn-color-border-box);\n",
       "  border-radius: 0.25em;\n",
       "  box-sizing: border-box;\n",
       "  margin-bottom: 0.5em;\n",
       "  /* unfitted */\n",
       "  background-color: var(--sklearn-color-unfitted-level-0);\n",
       "}\n",
       "\n",
       "#sk-container-id-1 div.sk-estimator.fitted {\n",
       "  /* fitted */\n",
       "  background-color: var(--sklearn-color-fitted-level-0);\n",
       "}\n",
       "\n",
       "/* on hover */\n",
       "#sk-container-id-1 div.sk-estimator:hover {\n",
       "  /* unfitted */\n",
       "  background-color: var(--sklearn-color-unfitted-level-2);\n",
       "}\n",
       "\n",
       "#sk-container-id-1 div.sk-estimator.fitted:hover {\n",
       "  /* fitted */\n",
       "  background-color: var(--sklearn-color-fitted-level-2);\n",
       "}\n",
       "\n",
       "/* Specification for estimator info (e.g. \"i\" and \"?\") */\n",
       "\n",
       "/* Common style for \"i\" and \"?\" */\n",
       "\n",
       ".sk-estimator-doc-link,\n",
       "a:link.sk-estimator-doc-link,\n",
       "a:visited.sk-estimator-doc-link {\n",
       "  float: right;\n",
       "  font-size: smaller;\n",
       "  line-height: 1em;\n",
       "  font-family: monospace;\n",
       "  background-color: var(--sklearn-color-background);\n",
       "  border-radius: 1em;\n",
       "  height: 1em;\n",
       "  width: 1em;\n",
       "  text-decoration: none !important;\n",
       "  margin-left: 1ex;\n",
       "  /* unfitted */\n",
       "  border: var(--sklearn-color-unfitted-level-1) 1pt solid;\n",
       "  color: var(--sklearn-color-unfitted-level-1);\n",
       "}\n",
       "\n",
       ".sk-estimator-doc-link.fitted,\n",
       "a:link.sk-estimator-doc-link.fitted,\n",
       "a:visited.sk-estimator-doc-link.fitted {\n",
       "  /* fitted */\n",
       "  border: var(--sklearn-color-fitted-level-1) 1pt solid;\n",
       "  color: var(--sklearn-color-fitted-level-1);\n",
       "}\n",
       "\n",
       "/* On hover */\n",
       "div.sk-estimator:hover .sk-estimator-doc-link:hover,\n",
       ".sk-estimator-doc-link:hover,\n",
       "div.sk-label-container:hover .sk-estimator-doc-link:hover,\n",
       ".sk-estimator-doc-link:hover {\n",
       "  /* unfitted */\n",
       "  background-color: var(--sklearn-color-unfitted-level-3);\n",
       "  color: var(--sklearn-color-background);\n",
       "  text-decoration: none;\n",
       "}\n",
       "\n",
       "div.sk-estimator.fitted:hover .sk-estimator-doc-link.fitted:hover,\n",
       ".sk-estimator-doc-link.fitted:hover,\n",
       "div.sk-label-container:hover .sk-estimator-doc-link.fitted:hover,\n",
       ".sk-estimator-doc-link.fitted:hover {\n",
       "  /* fitted */\n",
       "  background-color: var(--sklearn-color-fitted-level-3);\n",
       "  color: var(--sklearn-color-background);\n",
       "  text-decoration: none;\n",
       "}\n",
       "\n",
       "/* Span, style for the box shown on hovering the info icon */\n",
       ".sk-estimator-doc-link span {\n",
       "  display: none;\n",
       "  z-index: 9999;\n",
       "  position: relative;\n",
       "  font-weight: normal;\n",
       "  right: .2ex;\n",
       "  padding: .5ex;\n",
       "  margin: .5ex;\n",
       "  width: min-content;\n",
       "  min-width: 20ex;\n",
       "  max-width: 50ex;\n",
       "  color: var(--sklearn-color-text);\n",
       "  box-shadow: 2pt 2pt 4pt #999;\n",
       "  /* unfitted */\n",
       "  background: var(--sklearn-color-unfitted-level-0);\n",
       "  border: .5pt solid var(--sklearn-color-unfitted-level-3);\n",
       "}\n",
       "\n",
       ".sk-estimator-doc-link.fitted span {\n",
       "  /* fitted */\n",
       "  background: var(--sklearn-color-fitted-level-0);\n",
       "  border: var(--sklearn-color-fitted-level-3);\n",
       "}\n",
       "\n",
       ".sk-estimator-doc-link:hover span {\n",
       "  display: block;\n",
       "}\n",
       "\n",
       "/* \"?\"-specific style due to the `<a>` HTML tag */\n",
       "\n",
       "#sk-container-id-1 a.estimator_doc_link {\n",
       "  float: right;\n",
       "  font-size: 1rem;\n",
       "  line-height: 1em;\n",
       "  font-family: monospace;\n",
       "  background-color: var(--sklearn-color-background);\n",
       "  border-radius: 1rem;\n",
       "  height: 1rem;\n",
       "  width: 1rem;\n",
       "  text-decoration: none;\n",
       "  /* unfitted */\n",
       "  color: var(--sklearn-color-unfitted-level-1);\n",
       "  border: var(--sklearn-color-unfitted-level-1) 1pt solid;\n",
       "}\n",
       "\n",
       "#sk-container-id-1 a.estimator_doc_link.fitted {\n",
       "  /* fitted */\n",
       "  border: var(--sklearn-color-fitted-level-1) 1pt solid;\n",
       "  color: var(--sklearn-color-fitted-level-1);\n",
       "}\n",
       "\n",
       "/* On hover */\n",
       "#sk-container-id-1 a.estimator_doc_link:hover {\n",
       "  /* unfitted */\n",
       "  background-color: var(--sklearn-color-unfitted-level-3);\n",
       "  color: var(--sklearn-color-background);\n",
       "  text-decoration: none;\n",
       "}\n",
       "\n",
       "#sk-container-id-1 a.estimator_doc_link.fitted:hover {\n",
       "  /* fitted */\n",
       "  background-color: var(--sklearn-color-fitted-level-3);\n",
       "}\n",
       "</style><div id=\"sk-container-id-1\" class=\"sk-top-container\"><div class=\"sk-text-repr-fallback\"><pre>LogisticRegression()</pre><b>In a Jupyter environment, please rerun this cell to show the HTML representation or trust the notebook. <br />On GitHub, the HTML representation is unable to render, please try loading this page with nbviewer.org.</b></div><div class=\"sk-container\" hidden><div class=\"sk-item\"><div class=\"sk-estimator fitted sk-toggleable\"><input class=\"sk-toggleable__control sk-hidden--visually\" id=\"sk-estimator-id-1\" type=\"checkbox\" checked><label for=\"sk-estimator-id-1\" class=\"sk-toggleable__label fitted sk-toggleable__label-arrow fitted\">&nbsp;&nbsp;LogisticRegression<a class=\"sk-estimator-doc-link fitted\" rel=\"noreferrer\" target=\"_blank\" href=\"https://scikit-learn.org/1.4/modules/generated/sklearn.linear_model.LogisticRegression.html\">?<span>Documentation for LogisticRegression</span></a><span class=\"sk-estimator-doc-link fitted\">i<span>Fitted</span></span></label><div class=\"sk-toggleable__content fitted\"><pre>LogisticRegression()</pre></div> </div></div></div></div>"
      ],
      "text/plain": [
       "LogisticRegression()"
      ]
     },
     "execution_count": 20,
     "metadata": {},
     "output_type": "execute_result"
    }
   ],
   "source": [
    "X = np.array([[0.50, 0.75, 1.00, 1.25, 1.50, 1.75, 1.75, 2.00, 2.25, 2.50, \n",
    "              2.75, 3.00, 3.25, 3.50, 4.00, 4.25, 4.50, 4.75, 5.00, 5.50]])\n",
    "X = X.reshape(-1, 1)  # Chuyển X thành mảng 2D\n",
    "y = np.array([0, 0, 0, 0, 0, 0, 1, 0, 1, 0, 1, 0, 1, 0, 1, 1, 1, 1, 1, 1])\n",
    "\n",
    "logReg = LogisticRegression()\n",
    "logReg.fit(X, y)"
   ]
  },
  {
   "cell_type": "markdown",
   "metadata": {},
   "source": [
    "- In ra xác suất rơi vào lớp 1 của phần dữ liệu training"
   ]
  },
  {
   "cell_type": "code",
   "execution_count": 21,
   "metadata": {},
   "outputs": [
    {
     "name": "stdout",
     "output_type": "stream",
     "text": [
      "Xác suất rơi vào lớp 1 của phần dữ liệu training:\n",
      "[0.07138279 0.09292463 0.12012639 0.15393955 0.19515935 0.24423032\n",
      " 0.24423032 0.30102493 0.36465441 0.43339421 0.50479658 0.57600382\n",
      " 0.64418908 0.7069871  0.81079769 0.85099224 0.88387081 0.91025975\n",
      " 0.93111944 0.96001404]\n"
     ]
    }
   ],
   "source": [
    "# Dự đoán xác suất rơi vào mỗi lớp cho phần dữ liệu training\n",
    "probabilities = logReg.predict_proba(X)\n",
    "# Lấy xác suất rơi vào lớp 1\n",
    "prob_class_1 = probabilities[:, 1]\n",
    "# In ra xác suất rơi vào lớp 1\n",
    "print(\"Xác suất rơi vào lớp 1 của phần dữ liệu training:\")\n",
    "print(prob_class_1)"
   ]
  },
  {
   "cell_type": "markdown",
   "metadata": {},
   "source": [
    "Hãy thực hiện lệnh để thu được bộ hệ số, quan sát kết quả chạy và dùng bộ hệ số thu được để chạy dự đoán cho kết\n",
    "quả thi của các sinh viên với số giờ học sau\n",
    "\n",
    "`x_test = [2.45, 1.85, 3.75, 3.21, 4.05]` \n",
    "\n",
    "Dự đoán khả năng rơi vào lớp 1"
   ]
  },
  {
   "cell_type": "code",
   "execution_count": 22,
   "metadata": {},
   "outputs": [
    {
     "name": "stdout",
     "output_type": "stream",
     "text": [
      "Xác suất rơi vào lớp 1 của bộ test:\n",
      "[0.4193465  0.26605252 0.76278309 0.63358796 0.81945246]\n"
     ]
    }
   ],
   "source": [
    "x_test = [2.45, 1.85, 3.75, 3.21, 4.05]\n",
    "\n",
    "# Chuyển x_test thành một mảng hai chiều\n",
    "x_test = np.array(x_test).reshape(-1, 1)\n",
    "\n",
    "# Dự đoán xác suất rơi vào mỗi lớp cho bộ test\n",
    "probabilities_test = logReg.predict_proba(x_test)\n",
    "\n",
    "# Lấy xác suất rơi vào lớp 1\n",
    "prob_class_1_test = probabilities_test[:, 1]\n",
    "\n",
    "# In ra xác suất rơi vào lớp 1 cho bộ test\n",
    "print(\"Xác suất rơi vào lớp 1 của bộ test:\")\n",
    "print(prob_class_1_test)"
   ]
  },
  {
   "cell_type": "markdown",
   "metadata": {},
   "source": [
    "## VD2"
   ]
  },
  {
   "cell_type": "code",
   "execution_count": 34,
   "metadata": {},
   "outputs": [
    {
     "data": {
      "image/png": "[encoded data removed]",
      "text/plain": [
       "<Figure size 640x480 with 1 Axes>"
      ]
     },
     "metadata": {},
     "output_type": "display_data"
    },
    {
     "name": "stdout",
     "output_type": "stream",
     "text": [
      "[-6.96181003  1.69487606  1.04023726]\n"
     ]
    }
   ],
   "source": [
    "# To support both python 2 and python 3\n",
    "from __future__ import division, print_function, unicode_literals\n",
    "# list of points \n",
    "import numpy as np \n",
    "import matplotlib.pyplot as plt\n",
    "from scipy.spatial.distance import cdist\n",
    "from sklearn.linear_model import LogisticRegression\n",
    "from matplotlib.backends.backend_pdf import PdfPages\n",
    "np.random.seed(22)\n",
    "\n",
    "means = [[2, 2], [4, 2]]\n",
    "cov = [[.7, 0], [0, .7]]\n",
    "N = 20\n",
    "X0 = np.random.multivariate_normal(means[0], cov, N)\n",
    "X1 = np.random.multivariate_normal(means[1], cov, N)\n",
    "filename = 'logistic_2d.pdf'\n",
    "\n",
    "\n",
    "X = np.concatenate((X0, X1), axis=0)\n",
    "y = np.concatenate((np.zeros(N), np.ones(N)))\n",
    "\n",
    "# Fit logistic regression model\n",
    "logReg = LogisticRegression()\n",
    "logReg.fit(X, y)\n",
    "\n",
    "# Get coefficients\n",
    "w = np.array([logReg.intercept_[0], logReg.coef_[0][0], logReg.coef_[0][1]])\n",
    "\n",
    "# # Make data.\n",
    "x1m = np.arange(-1, 6, 0.025) # generate data coord. X1\n",
    "xlen = len(x1m)\n",
    "x2m = np.arange(0, 4, 0.025) # generate data coord. X2\n",
    "x2en = len(x2m)\n",
    "x1m, x2m = np.meshgrid(x1m, x2m) # create mesh grid X = (X1, X2)\n",
    "# now assign the parameter w0, w1, w2 from array w which was computed above\n",
    "w0 = w[0]\n",
    "w1 = w[1]\n",
    "w2 = w[2]\n",
    "\n",
    "# calculate probability zm=P(c|x)=sigmoid(w^Tx)=sigmoid(w0+w1*x1m+w2*x2m)\n",
    "zm = sigmoid(w0 + w1*x1m + w2*x2m)\n",
    "# plot contour of prob. zm by the saturation of blue and red\n",
    "# more red <=> prob. that data point belong to red class is higher & vise versa\n",
    "CS = plt.contourf(x1m, x2m, zm, 200, cmap='jet')\n",
    "# finally, plot the data and take a look\n",
    "plt.plot(X0[:, 0], X0[:, 1], 'bs', markersize = 8, alpha = 1)\n",
    "plt.plot(X1[:, 0], X1[:, 1], 'ro', markersize = 8, alpha = 1)\n",
    "plt.axis('equal')\n",
    "plt.ylim(0, 4)\n",
    "plt.xlim(0, 5)\n",
    "# hide tikcs\n",
    "cur_axes = plt.gca()\n",
    "cur_axes.axes.get_xaxis().set_ticks([])\n",
    "cur_axes.axes.get_yaxis().set_ticks([])\n",
    "plt.xlabel('$x_1$', fontsize = 20)\n",
    "plt.ylabel('$x_2$', fontsize = 20)\n",
    "plt.savefig('logistic_2d_2.png', bbox_inches='tight', dpi = 300)\n",
    "plt.show()\n",
    "\n",
    "print(w)\n"
   ]
  },
  {
   "cell_type": "markdown",
   "metadata": {},
   "source": [
    "### Nhận xét code tự xây dựng vs thư viện"
   ]
  },
  {
   "cell_type": "markdown",
   "metadata": {},
   "source": [
    "- Bộ tham số tối ưu: khác nhau \n",
    "- Kết quả dự đoán: dự đoán phân lớp không khác nhau\n",
    "- Độ chính xác: gần tương đương"
   ]
  },
  {
   "cell_type": "markdown",
   "metadata": {},
   "source": [
    "=> Sự khác nhau trong bộ tham số tối ưu có thể do thuật toán tối ưu hóa, tiêu chí dừng, tốc độ học, hiệu chỉnh của mình dùng khác với thư viện"
   ]
  }
 ],
 "metadata": {
  "kernelspec": {
   "display_name": "base",
   "language": "python",
   "name": "python3"
  },
  "language_info": {
   "codemirror_mode": {
    "name": "ipython",
    "version": 3
   },
   "file_extension": ".py",
   "mimetype": "text/x-python",
   "name": "python",
   "nbconvert_exporter": "python",
   "pygments_lexer": "ipython3",
   "version": "3.11.5"
  }
 },
 "nbformat": 4,
 "nbformat_minor": 2
}
