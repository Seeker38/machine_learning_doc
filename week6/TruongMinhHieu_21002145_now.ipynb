{
 "cells": [
  {
   "cell_type": "code",
   "execution_count": 1,
   "metadata": {},
   "outputs": [],
   "source": [
    "import pandas as pd\n",
    "from sklearn.model_selection import train_test_split\n",
    "from sklearn.linear_model import Perceptron, LogisticRegression\n",
    "from sklearn.metrics import accuracy_score, precision_score, recall_score\n"
   ]
  },
  {
   "cell_type": "code",
   "execution_count": 16,
   "metadata": {},
   "outputs": [
    {
     "name": "stdout",
     "output_type": "stream",
     "text": [
      "male               0\n",
      "age                0\n",
      "education          0\n",
      "currentSmoker      0\n",
      "cigsPerDay         0\n",
      "BPMeds             0\n",
      "prevalentStroke    0\n",
      "prevalentHyp       0\n",
      "diabetes           0\n",
      "totChol            0\n",
      "sysBP              0\n",
      "diaBP              0\n",
      "BMI                0\n",
      "heartRate          0\n",
      "glucose            0\n",
      "TenYearCHD         0\n",
      "dtype: int64\n"
     ]
    }
   ],
   "source": [
    "data = pd.read_csv('framingham.csv')\n",
    "\n",
    "data = data.dropna(how=\"any\", axis=0)\n",
    "\n",
    "\n",
    "print(data.isnull().sum())"
   ]
  },
  {
   "cell_type": "code",
   "execution_count": 15,
   "metadata": {},
   "outputs": [],
   "source": [
    "X = data.drop(\"TenYearCHD\", axis=1)\n",
    "y = data[\"TenYearCHD\"]"
   ]
  },
  {
   "cell_type": "markdown",
   "metadata": {},
   "source": [
    "Hãy xử lý sơ bộ dữ liệu như trong yêu cầu của phần hồi quy logistic. Chia tập dữ liệu thành\n",
    "Traning:Validation = 7:3."
   ]
  },
  {
   "cell_type": "code",
   "execution_count": 17,
   "metadata": {},
   "outputs": [],
   "source": [
    "# Splitting the data into training and validation sets (70% train, 30% validation)\n",
    "X_train, X_val, y_train, y_val = train_test_split(X, y, test_size=0.3, random_state=42)"
   ]
  },
  {
   "cell_type": "markdown",
   "metadata": {},
   "source": [
    "Thực hiện phân loại bằng phương pháp Perceptron. Tính các độ đo Accuracy, Precision và Recall\n",
    "để đánh giá kết quả."
   ]
  },
  {
   "cell_type": "code",
   "execution_count": 27,
   "metadata": {},
   "outputs": [],
   "source": [
    "# Perceptron\n",
    "pla_model = Perceptron(fit_intercept=True)\n",
    "pla_model.fit(X_train, y_train)\n",
    "# Predict mô hình\n",
    "y_pred = pla_model.predict(X_val)"
   ]
  },
  {
   "cell_type": "code",
   "execution_count": 21,
   "metadata": {},
   "outputs": [],
   "source": [
    "# Các hệ số\n",
    "# print(pct_model.coef_)"
   ]
  },
  {
   "cell_type": "code",
   "execution_count": 28,
   "metadata": {},
   "outputs": [
    {
     "name": "stdout",
     "output_type": "stream",
     "text": [
      "Accuracy:  0.24703737465815861\n",
      "Precision:  0.9080459770114943\n",
      "Recall:  0.16322314049586778\n"
     ]
    }
   ],
   "source": [
    "print(\"Accuracy: \", accuracy_score(y_pred, y_val))\n",
    "print(\"Precision: \", precision_score(y_pred, y_val))\n",
    "print(\"Recall: \", recall_score(y_pred, y_val))"
   ]
  },
  {
   "cell_type": "markdown",
   "metadata": {},
   "source": [
    "Thực hiện phân loại bằng phương pháp Hồi quy Logistic trên cùng bộ dữ liệu training:validation\n",
    "đã có ở ý trên. Tính các độ đo Accuracy, Precision và Recall và so sánh kết quả."
   ]
  },
  {
   "cell_type": "code",
   "execution_count": 23,
   "metadata": {},
   "outputs": [],
   "source": [
    "# Khởi tạo mô hình Logistic\n",
    "log_res = LogisticRegression(multi_class=\"multinomial\", solver=\"sag\",max_iter=5000)\n",
    "# Fit mô hình\n",
    "log_res.fit(X_train, y_train)\n",
    "# Prediction\n",
    "y_pred = log_res.predict(X_val)"
   ]
  },
  {
   "cell_type": "code",
   "execution_count": 25,
   "metadata": {},
   "outputs": [
    {
     "data": {
      "text/plain": [
       "numpy.ndarray"
      ]
     },
     "execution_count": 25,
     "metadata": {},
     "output_type": "execute_result"
    }
   ],
   "source": [
    "type(y_pred)"
   ]
  },
  {
   "cell_type": "code",
   "execution_count": 24,
   "metadata": {},
   "outputs": [
    {
     "name": "stdout",
     "output_type": "stream",
     "text": [
      "Accuracy:  0.845031905195989\n",
      "Precision:  0.05747126436781609\n",
      "Recall:  0.625\n"
     ]
    }
   ],
   "source": [
    "print(\"Accuracy: \", accuracy_score(y_pred, y_val))\n",
    "print(\"Precision: \", precision_score(y_pred, y_val))\n",
    "print(\"Recall: \", recall_score(y_pred, y_val))"
   ]
  },
  {
   "cell_type": "markdown",
   "metadata": {},
   "source": [
    "So sánh kết quả: \n",
    "- Accuracy và Recall sử dụng mô hình Perceptron < Accuracy và Recall của mô hình hồi quy Logistic một cách đáng đáng kể.\n",
    "- Nhược lại, độ đo Precision của mô hình Perceptron > độ đo của mô hình hồi quy Logistic."
   ]
  },
  {
   "cell_type": "markdown",
   "metadata": {},
   "source": [
    "Hãy giải thích về kết quả thu được của các mô hình cũng như nhận xét trên độ chính xác của mỗi\n",
    "mô hình."
   ]
  },
  {
   "cell_type": "markdown",
   "metadata": {},
   "source": [
    "Cụ thể: \n",
    "+ Perceptron:\n",
    "    - Accuracy: Giá trị này khá thấp ở mức 0,2470, nghĩa là mô hình perceptron dự đoán đúng lớp chỉ khoảng 24,7% tổng số mẫu.\n",
    "    - Precision: Precision là 0,9080, biểu thị rằng khi dự đoán lớp dương thì độ chính xác là khoảng 90,8%. Đây là mức cao, cho thấy rằng khi mô hình dự đoán một kết quả tích cực thì nó thường đúng.\n",
    "    - Recall: Recall là 0,1632, cho thấy mô hình chỉ xác định đúng 16,32% số mẫu dương tính thực tế. Tỷ lệ này khá thấp, cho thấy mô hình đã bỏ lỡ một số lượng đáng kể các trường hợp dương tính thực tế.\n",
    "\n",
    "+ Logistic:\n",
    "    - Accuracy: Giá trị này tương đối cao ở mức 0,8450, cho thấy mô hình hồi quy logistic đã dự đoán chính xác loại khoảng 84,5% tổng số mẫu.\n",
    "    - Precision: Precision rất thấp ở mức 0,0575, có nghĩa là khi dự đoán lớp dương, nó chỉ đúng khoảng 5,75%. Điều này cho thấy rất nhiều kết quả dương tính giả.\n",
    "    - Recall: Recall là 0,6250, cho biết mô hình xác định chính xác 62,5% số mẫu dương tính thực tế. Con số này tương đối cao so với perceptron."
   ]
  },
  {
   "cell_type": "markdown",
   "metadata": {},
   "source": [
    "Nguyên nhân của hiện tượng trên là do thuật toán PLA yêu cầu dữ liệu có thể được phân tách tuyến tính. Với dữ liệu phức tạp và có nhiều chiều hơn, sự hiện diện của vô số điểm nhiễu làm cho PLA không hoạt động hiệu quả. Tuy nhiên, mức độ chính xác Precision cao của PLA đồng nghĩa với khả năng phân loại tốt giữa các lớp dữ liệu.\n",
    "\n",
    "Mô hình hồi quy Logistic, ngược lại, có độ đo Accuracy và Recall khá ổn, nhưng độ đo Precision thấp. Mô hình này không phù hợp cho việc phân loại các điểm dữ liệu có thể ảnh hưởng lẫn nhau. Do đó, đối với bộ dữ liệu đã được mô tả, mô hình hồi quy Logistic cho thấy khả năng phân loại Precision thấp, trong khi độ chính xác tổng thể (Accuracy) vẫn tương đối cao (84,9%), và độ chính xác trong việc xác định tất cả các điểm thuộc 1 lớp (Recall) ở mức trung bình (57,14%)."
   ]
  }
 ],
 "metadata": {
  "kernelspec": {
   "display_name": "base",
   "language": "python",
   "name": "python3"
  },
  "language_info": {
   "codemirror_mode": {
    "name": "ipython",
    "version": 3
   },
   "file_extension": ".py",
   "mimetype": "text/x-python",
   "name": "python",
   "nbconvert_exporter": "python",
   "pygments_lexer": "ipython3",
   "version": "3.10.13"
  }
 },
 "nbformat": 4,
 "nbformat_minor": 2
}
