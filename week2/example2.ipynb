{
 "cells": [
  {
   "cell_type": "code",
   "execution_count": 2,
   "metadata": {},
   "outputs": [],
   "source": [
    "import math\n",
    "import numpy as np\n",
    "with open('fuel.txt') as f:\n",
    "    lines = f.readlines()\n",
    "\n",
    "x_data = []\n",
    "y_data = []\n",
    "lines.pop(0)\n",
    "\n",
    "for line in lines:\n",
    "    splitted = line.replace('\\n', '').split(',')\n",
    "    splitted.pop(0)\n",
    "    splitted = list(map(float, splitted))\n",
    "    fuel = 1000 * splitted[1] / splitted[5]\n",
    "    dlic = 1000 * splitted[0] / splitted[5]\n",
    "    logMiles = math.log2(splitted[3])\n",
    "    y_data.append([fuel])\n",
    "    x_data.append([splitted[-1], dlic, splitted[2], logMiles])\n",
    "\n",
    "x_data = np.asarray(x_data)\n",
    "y_data = np.asarray(y_data)"
   ]
  },
  {
   "cell_type": "code",
   "execution_count": null,
   "metadata": {},
   "outputs": [],
   "source": []
  }
 ],
 "metadata": {
  "kernelspec": {
   "display_name": "base",
   "language": "python",
   "name": "python3"
  },
  "language_info": {
   "codemirror_mode": {
    "name": "ipython",
    "version": 3
   },
   "file_extension": ".py",
   "mimetype": "text/x-python",
   "name": "python",
   "nbconvert_exporter": "python",
   "pygments_lexer": "ipython3",
   "version": "3.10.13"
  }
 },
 "nbformat": 4,
 "nbformat_minor": 2
}
